{
  "nbformat": 4,
  "nbformat_minor": 0,
  "metadata": {
    "colab": {
      "name": "Seattle_Datasets.ipynb",
      "provenance": [],
      "collapsed_sections": [],
      "authorship_tag": "ABX9TyPJOdZ3Sb0Ys98esbdYxy4p",
      "include_colab_link": true
    },
    "kernelspec": {
      "name": "python3",
      "display_name": "Python 3"
    }
  },
  "cells": [
    {
      "cell_type": "markdown",
      "metadata": {
        "id": "view-in-github",
        "colab_type": "text"
      },
      "source": [
        "<a href=\"https://colab.research.google.com/github/iffyaiyan/airbnb-Seatle/blob/master/Seattle_Datasets.ipynb\" target=\"_parent\"><img src=\"https://colab.research.google.com/assets/colab-badge.svg\" alt=\"Open In Colab\"/></a>"
      ]
    },
    {
      "cell_type": "code",
      "metadata": {
        "id": "Ga3kr5qKJqLT",
        "colab_type": "code",
        "colab": {}
      },
      "source": [
        "import numpy as np\n",
        "import pandas as pd\n",
        "import matplotlib.pyplot as plt\n",
        "import seaborn as sns\n",
        "%matplotlib inline"
      ],
      "execution_count": 0,
      "outputs": []
    },
    {
      "cell_type": "markdown",
      "metadata": {
        "id": "AoBjzOwjNCzG",
        "colab_type": "text"
      },
      "source": [
        "Reading the datasets"
      ]
    },
    {
      "cell_type": "code",
      "metadata": {
        "id": "fWFWicW6J6M7",
        "colab_type": "code",
        "colab": {}
      },
      "source": [
        "listings_df = pd.read_csv(\"/content/listings.csv\")\n",
        "calendar_df = pd.read_csv(\"/content/calendar.csv\")\n",
        "reviews_df = pd.read_csv(\"/content/reviews.csv\")"
      ],
      "execution_count": 0,
      "outputs": []
    },
    {
      "cell_type": "markdown",
      "metadata": {
        "id": "_ndWCjSGM_1-",
        "colab_type": "text"
      },
      "source": [
        "Let's try to get the insights from the above datasets file"
      ]
    },
    {
      "cell_type": "code",
      "metadata": {
        "id": "oCZZDSvPM-6C",
        "colab_type": "code",
        "colab": {
          "base_uri": "https://localhost:8080/",
          "height": 798
        },
        "outputId": "84ac4cd1-a724-441f-e686-876cc3a8aa1a"
      },
      "source": [
        "listings_df.head()"
      ],
      "execution_count": 70,
      "outputs": [
        {
          "output_type": "execute_result",
          "data": {
            "text/html": [
              "<div>\n",
              "<style scoped>\n",
              "    .dataframe tbody tr th:only-of-type {\n",
              "        vertical-align: middle;\n",
              "    }\n",
              "\n",
              "    .dataframe tbody tr th {\n",
              "        vertical-align: top;\n",
              "    }\n",
              "\n",
              "    .dataframe thead th {\n",
              "        text-align: right;\n",
              "    }\n",
              "</style>\n",
              "<table border=\"1\" class=\"dataframe\">\n",
              "  <thead>\n",
              "    <tr style=\"text-align: right;\">\n",
              "      <th></th>\n",
              "      <th>id</th>\n",
              "      <th>listing_url</th>\n",
              "      <th>scrape_id</th>\n",
              "      <th>last_scraped</th>\n",
              "      <th>name</th>\n",
              "      <th>summary</th>\n",
              "      <th>space</th>\n",
              "      <th>description</th>\n",
              "      <th>experiences_offered</th>\n",
              "      <th>neighborhood_overview</th>\n",
              "      <th>notes</th>\n",
              "      <th>transit</th>\n",
              "      <th>thumbnail_url</th>\n",
              "      <th>medium_url</th>\n",
              "      <th>picture_url</th>\n",
              "      <th>xl_picture_url</th>\n",
              "      <th>host_id</th>\n",
              "      <th>host_url</th>\n",
              "      <th>host_name</th>\n",
              "      <th>host_since</th>\n",
              "      <th>host_location</th>\n",
              "      <th>host_about</th>\n",
              "      <th>host_response_time</th>\n",
              "      <th>host_response_rate</th>\n",
              "      <th>host_acceptance_rate</th>\n",
              "      <th>host_is_superhost</th>\n",
              "      <th>host_thumbnail_url</th>\n",
              "      <th>host_picture_url</th>\n",
              "      <th>host_neighbourhood</th>\n",
              "      <th>host_listings_count</th>\n",
              "      <th>host_total_listings_count</th>\n",
              "      <th>host_verifications</th>\n",
              "      <th>host_has_profile_pic</th>\n",
              "      <th>host_identity_verified</th>\n",
              "      <th>street</th>\n",
              "      <th>neighbourhood</th>\n",
              "      <th>neighbourhood_cleansed</th>\n",
              "      <th>neighbourhood_group_cleansed</th>\n",
              "      <th>city</th>\n",
              "      <th>state</th>\n",
              "      <th>...</th>\n",
              "      <th>bedrooms</th>\n",
              "      <th>beds</th>\n",
              "      <th>bed_type</th>\n",
              "      <th>amenities</th>\n",
              "      <th>square_feet</th>\n",
              "      <th>price</th>\n",
              "      <th>weekly_price</th>\n",
              "      <th>monthly_price</th>\n",
              "      <th>security_deposit</th>\n",
              "      <th>cleaning_fee</th>\n",
              "      <th>guests_included</th>\n",
              "      <th>extra_people</th>\n",
              "      <th>minimum_nights</th>\n",
              "      <th>maximum_nights</th>\n",
              "      <th>calendar_updated</th>\n",
              "      <th>has_availability</th>\n",
              "      <th>availability_30</th>\n",
              "      <th>availability_60</th>\n",
              "      <th>availability_90</th>\n",
              "      <th>availability_365</th>\n",
              "      <th>calendar_last_scraped</th>\n",
              "      <th>number_of_reviews</th>\n",
              "      <th>first_review</th>\n",
              "      <th>last_review</th>\n",
              "      <th>review_scores_rating</th>\n",
              "      <th>review_scores_accuracy</th>\n",
              "      <th>review_scores_cleanliness</th>\n",
              "      <th>review_scores_checkin</th>\n",
              "      <th>review_scores_communication</th>\n",
              "      <th>review_scores_location</th>\n",
              "      <th>review_scores_value</th>\n",
              "      <th>requires_license</th>\n",
              "      <th>license</th>\n",
              "      <th>jurisdiction_names</th>\n",
              "      <th>instant_bookable</th>\n",
              "      <th>cancellation_policy</th>\n",
              "      <th>require_guest_profile_picture</th>\n",
              "      <th>require_guest_phone_verification</th>\n",
              "      <th>calculated_host_listings_count</th>\n",
              "      <th>reviews_per_month</th>\n",
              "    </tr>\n",
              "  </thead>\n",
              "  <tbody>\n",
              "    <tr>\n",
              "      <th>0</th>\n",
              "      <td>241032</td>\n",
              "      <td>https://www.airbnb.com/rooms/241032</td>\n",
              "      <td>20160104002432</td>\n",
              "      <td>2016-01-04</td>\n",
              "      <td>Stylish Queen Anne Apartment</td>\n",
              "      <td>NaN</td>\n",
              "      <td>Make your self at home in this charming one-be...</td>\n",
              "      <td>Make your self at home in this charming one-be...</td>\n",
              "      <td>none</td>\n",
              "      <td>NaN</td>\n",
              "      <td>NaN</td>\n",
              "      <td>NaN</td>\n",
              "      <td>NaN</td>\n",
              "      <td>NaN</td>\n",
              "      <td>https://a1.muscache.com/ac/pictures/67560560/c...</td>\n",
              "      <td>NaN</td>\n",
              "      <td>956883.0</td>\n",
              "      <td>https://www.airbnb.com/users/show/956883</td>\n",
              "      <td>Maija</td>\n",
              "      <td>2011-08-11</td>\n",
              "      <td>Seattle, Washington, United States</td>\n",
              "      <td>I am an artist, interior designer, and run a s...</td>\n",
              "      <td>within a few hours</td>\n",
              "      <td>96%</td>\n",
              "      <td>100%</td>\n",
              "      <td>f</td>\n",
              "      <td>https://a0.muscache.com/ac/users/956883/profil...</td>\n",
              "      <td>https://a0.muscache.com/ac/users/956883/profil...</td>\n",
              "      <td>Queen Anne</td>\n",
              "      <td>3.0</td>\n",
              "      <td>3.0</td>\n",
              "      <td>['email', 'phone', 'reviews', 'kba']</td>\n",
              "      <td>t</td>\n",
              "      <td>t</td>\n",
              "      <td>Gilman Dr W, Seattle, WA 98119, United States</td>\n",
              "      <td>Queen Anne</td>\n",
              "      <td>West Queen Anne</td>\n",
              "      <td>Queen Anne</td>\n",
              "      <td>Seattle</td>\n",
              "      <td>WA</td>\n",
              "      <td>...</td>\n",
              "      <td>1.0</td>\n",
              "      <td>1.0</td>\n",
              "      <td>Real Bed</td>\n",
              "      <td>{TV,\"Cable TV\",Internet,\"Wireless Internet\",\"A...</td>\n",
              "      <td>NaN</td>\n",
              "      <td>$85.00</td>\n",
              "      <td>NaN</td>\n",
              "      <td>NaN</td>\n",
              "      <td>NaN</td>\n",
              "      <td>NaN</td>\n",
              "      <td>2.0</td>\n",
              "      <td>$5.00</td>\n",
              "      <td>1.0</td>\n",
              "      <td>365.0</td>\n",
              "      <td>4 weeks ago</td>\n",
              "      <td>t</td>\n",
              "      <td>14.0</td>\n",
              "      <td>41.0</td>\n",
              "      <td>71.0</td>\n",
              "      <td>346.0</td>\n",
              "      <td>2016-01-04</td>\n",
              "      <td>207.0</td>\n",
              "      <td>2011-11-01</td>\n",
              "      <td>2016-01-02</td>\n",
              "      <td>95.0</td>\n",
              "      <td>10.0</td>\n",
              "      <td>10.0</td>\n",
              "      <td>10.0</td>\n",
              "      <td>10.0</td>\n",
              "      <td>9.0</td>\n",
              "      <td>10.0</td>\n",
              "      <td>f</td>\n",
              "      <td>NaN</td>\n",
              "      <td>WASHINGTON</td>\n",
              "      <td>f</td>\n",
              "      <td>moderate</td>\n",
              "      <td>f</td>\n",
              "      <td>f</td>\n",
              "      <td>2.0</td>\n",
              "      <td>4.07</td>\n",
              "    </tr>\n",
              "    <tr>\n",
              "      <th>1</th>\n",
              "      <td>953595</td>\n",
              "      <td>https://www.airbnb.com/rooms/953595</td>\n",
              "      <td>20160104002432</td>\n",
              "      <td>2016-01-04</td>\n",
              "      <td>Bright &amp; Airy Queen Anne Apartment</td>\n",
              "      <td>Chemically sensitive? We've removed the irrita...</td>\n",
              "      <td>Beautiful, hypoallergenic apartment in an extr...</td>\n",
              "      <td>Chemically sensitive? We've removed the irrita...</td>\n",
              "      <td>none</td>\n",
              "      <td>Queen Anne is a wonderful, truly functional vi...</td>\n",
              "      <td>What's up with the free pillows?  Our home was...</td>\n",
              "      <td>Convenient bus stops are just down the block, ...</td>\n",
              "      <td>https://a0.muscache.com/ac/pictures/14409893/f...</td>\n",
              "      <td>https://a0.muscache.com/im/pictures/14409893/f...</td>\n",
              "      <td>https://a0.muscache.com/ac/pictures/14409893/f...</td>\n",
              "      <td>https://a0.muscache.com/ac/pictures/14409893/f...</td>\n",
              "      <td>5177328.0</td>\n",
              "      <td>https://www.airbnb.com/users/show/5177328</td>\n",
              "      <td>Andrea</td>\n",
              "      <td>2013-02-21</td>\n",
              "      <td>Seattle, Washington, United States</td>\n",
              "      <td>Living east coast/left coast/overseas.  Time i...</td>\n",
              "      <td>within an hour</td>\n",
              "      <td>98%</td>\n",
              "      <td>100%</td>\n",
              "      <td>t</td>\n",
              "      <td>https://a0.muscache.com/ac/users/5177328/profi...</td>\n",
              "      <td>https://a0.muscache.com/ac/users/5177328/profi...</td>\n",
              "      <td>Queen Anne</td>\n",
              "      <td>6.0</td>\n",
              "      <td>6.0</td>\n",
              "      <td>['email', 'phone', 'facebook', 'linkedin', 're...</td>\n",
              "      <td>t</td>\n",
              "      <td>t</td>\n",
              "      <td>7th Avenue West, Seattle, WA 98119, United States</td>\n",
              "      <td>Queen Anne</td>\n",
              "      <td>West Queen Anne</td>\n",
              "      <td>Queen Anne</td>\n",
              "      <td>Seattle</td>\n",
              "      <td>WA</td>\n",
              "      <td>...</td>\n",
              "      <td>1.0</td>\n",
              "      <td>1.0</td>\n",
              "      <td>Real Bed</td>\n",
              "      <td>{TV,Internet,\"Wireless Internet\",Kitchen,\"Free...</td>\n",
              "      <td>NaN</td>\n",
              "      <td>$150.00</td>\n",
              "      <td>$1,000.00</td>\n",
              "      <td>$3,000.00</td>\n",
              "      <td>$100.00</td>\n",
              "      <td>$40.00</td>\n",
              "      <td>1.0</td>\n",
              "      <td>$0.00</td>\n",
              "      <td>2.0</td>\n",
              "      <td>90.0</td>\n",
              "      <td>today</td>\n",
              "      <td>t</td>\n",
              "      <td>13.0</td>\n",
              "      <td>13.0</td>\n",
              "      <td>16.0</td>\n",
              "      <td>291.0</td>\n",
              "      <td>2016-01-04</td>\n",
              "      <td>43.0</td>\n",
              "      <td>2013-08-19</td>\n",
              "      <td>2015-12-29</td>\n",
              "      <td>96.0</td>\n",
              "      <td>10.0</td>\n",
              "      <td>10.0</td>\n",
              "      <td>10.0</td>\n",
              "      <td>10.0</td>\n",
              "      <td>10.0</td>\n",
              "      <td>10.0</td>\n",
              "      <td>f</td>\n",
              "      <td>NaN</td>\n",
              "      <td>WASHINGTON</td>\n",
              "      <td>f</td>\n",
              "      <td>strict</td>\n",
              "      <td>t</td>\n",
              "      <td>t</td>\n",
              "      <td>6.0</td>\n",
              "      <td>1.48</td>\n",
              "    </tr>\n",
              "    <tr>\n",
              "      <th>2</th>\n",
              "      <td>3308979</td>\n",
              "      <td>https://www.airbnb.com/rooms/3308979</td>\n",
              "      <td>20160104002432</td>\n",
              "      <td>2016-01-04</td>\n",
              "      <td>New Modern House-Amazing water view</td>\n",
              "      <td>New modern house built in 2013.  Spectacular s...</td>\n",
              "      <td>Our house is modern, light and fresh with a wa...</td>\n",
              "      <td>New modern house built in 2013.  Spectacular s...</td>\n",
              "      <td>none</td>\n",
              "      <td>Upper Queen Anne is a charming neighborhood fu...</td>\n",
              "      <td>Our house is located just 5 short blocks to To...</td>\n",
              "      <td>A bus stop is just 2 blocks away.   Easy bus a...</td>\n",
              "      <td>NaN</td>\n",
              "      <td>NaN</td>\n",
              "      <td>https://a2.muscache.com/ac/pictures/b4324e0f-a...</td>\n",
              "      <td>NaN</td>\n",
              "      <td>16708587.0</td>\n",
              "      <td>https://www.airbnb.com/users/show/16708587</td>\n",
              "      <td>Jill</td>\n",
              "      <td>2014-06-12</td>\n",
              "      <td>Seattle, Washington, United States</td>\n",
              "      <td>i love living in Seattle.  i grew up in the mi...</td>\n",
              "      <td>within a few hours</td>\n",
              "      <td>67%</td>\n",
              "      <td>100%</td>\n",
              "      <td>f</td>\n",
              "      <td>https://a1.muscache.com/ac/users/16708587/prof...</td>\n",
              "      <td>https://a1.muscache.com/ac/users/16708587/prof...</td>\n",
              "      <td>Queen Anne</td>\n",
              "      <td>2.0</td>\n",
              "      <td>2.0</td>\n",
              "      <td>['email', 'phone', 'google', 'reviews', 'jumio']</td>\n",
              "      <td>t</td>\n",
              "      <td>t</td>\n",
              "      <td>West Lee Street, Seattle, WA 98119, United States</td>\n",
              "      <td>Queen Anne</td>\n",
              "      <td>West Queen Anne</td>\n",
              "      <td>Queen Anne</td>\n",
              "      <td>Seattle</td>\n",
              "      <td>WA</td>\n",
              "      <td>...</td>\n",
              "      <td>5.0</td>\n",
              "      <td>7.0</td>\n",
              "      <td>Real Bed</td>\n",
              "      <td>{TV,\"Cable TV\",Internet,\"Wireless Internet\",\"A...</td>\n",
              "      <td>NaN</td>\n",
              "      <td>$975.00</td>\n",
              "      <td>NaN</td>\n",
              "      <td>NaN</td>\n",
              "      <td>$1,000.00</td>\n",
              "      <td>$300.00</td>\n",
              "      <td>10.0</td>\n",
              "      <td>$25.00</td>\n",
              "      <td>4.0</td>\n",
              "      <td>30.0</td>\n",
              "      <td>5 weeks ago</td>\n",
              "      <td>t</td>\n",
              "      <td>1.0</td>\n",
              "      <td>6.0</td>\n",
              "      <td>17.0</td>\n",
              "      <td>220.0</td>\n",
              "      <td>2016-01-04</td>\n",
              "      <td>20.0</td>\n",
              "      <td>2014-07-30</td>\n",
              "      <td>2015-09-03</td>\n",
              "      <td>97.0</td>\n",
              "      <td>10.0</td>\n",
              "      <td>10.0</td>\n",
              "      <td>10.0</td>\n",
              "      <td>10.0</td>\n",
              "      <td>10.0</td>\n",
              "      <td>10.0</td>\n",
              "      <td>f</td>\n",
              "      <td>NaN</td>\n",
              "      <td>WASHINGTON</td>\n",
              "      <td>f</td>\n",
              "      <td>strict</td>\n",
              "      <td>f</td>\n",
              "      <td>f</td>\n",
              "      <td>2.0</td>\n",
              "      <td>1.15</td>\n",
              "    </tr>\n",
              "    <tr>\n",
              "      <th>3</th>\n",
              "      <td>7421966</td>\n",
              "      <td>https://www.airbnb.com/rooms/7421966</td>\n",
              "      <td>20160104002432</td>\n",
              "      <td>2016-01-04</td>\n",
              "      <td>Queen Anne Chateau</td>\n",
              "      <td>A charming apartment that sits atop Queen Anne...</td>\n",
              "      <td>NaN</td>\n",
              "      <td>A charming apartment that sits atop Queen Anne...</td>\n",
              "      <td>none</td>\n",
              "      <td>NaN</td>\n",
              "      <td>NaN</td>\n",
              "      <td>NaN</td>\n",
              "      <td>NaN</td>\n",
              "      <td>NaN</td>\n",
              "      <td>https://a0.muscache.com/ac/pictures/94146944/6...</td>\n",
              "      <td>NaN</td>\n",
              "      <td>9851441.0</td>\n",
              "      <td>https://www.airbnb.com/users/show/9851441</td>\n",
              "      <td>Emily</td>\n",
              "      <td>2013-11-06</td>\n",
              "      <td>Seattle, Washington, United States</td>\n",
              "      <td>NaN</td>\n",
              "      <td>NaN</td>\n",
              "      <td>NaN</td>\n",
              "      <td>NaN</td>\n",
              "      <td>f</td>\n",
              "      <td>https://a2.muscache.com/ac/users/9851441/profi...</td>\n",
              "      <td>https://a2.muscache.com/ac/users/9851441/profi...</td>\n",
              "      <td>Queen Anne</td>\n",
              "      <td>1.0</td>\n",
              "      <td>1.0</td>\n",
              "      <td>['email', 'phone', 'facebook', 'reviews', 'jum...</td>\n",
              "      <td>t</td>\n",
              "      <td>t</td>\n",
              "      <td>8th Avenue West, Seattle, WA 98119, United States</td>\n",
              "      <td>Queen Anne</td>\n",
              "      <td>West Queen Anne</td>\n",
              "      <td>Queen Anne</td>\n",
              "      <td>Seattle</td>\n",
              "      <td>WA</td>\n",
              "      <td>...</td>\n",
              "      <td>0.0</td>\n",
              "      <td>2.0</td>\n",
              "      <td>Real Bed</td>\n",
              "      <td>{Internet,\"Wireless Internet\",Kitchen,\"Indoor ...</td>\n",
              "      <td>NaN</td>\n",
              "      <td>$100.00</td>\n",
              "      <td>$650.00</td>\n",
              "      <td>$2,300.00</td>\n",
              "      <td>NaN</td>\n",
              "      <td>NaN</td>\n",
              "      <td>1.0</td>\n",
              "      <td>$0.00</td>\n",
              "      <td>1.0</td>\n",
              "      <td>1125.0</td>\n",
              "      <td>6 months ago</td>\n",
              "      <td>t</td>\n",
              "      <td>0.0</td>\n",
              "      <td>0.0</td>\n",
              "      <td>0.0</td>\n",
              "      <td>143.0</td>\n",
              "      <td>2016-01-04</td>\n",
              "      <td>0.0</td>\n",
              "      <td>NaN</td>\n",
              "      <td>NaN</td>\n",
              "      <td>NaN</td>\n",
              "      <td>NaN</td>\n",
              "      <td>NaN</td>\n",
              "      <td>NaN</td>\n",
              "      <td>NaN</td>\n",
              "      <td>NaN</td>\n",
              "      <td>NaN</td>\n",
              "      <td>f</td>\n",
              "      <td>NaN</td>\n",
              "      <td>WASHINGTON</td>\n",
              "      <td>f</td>\n",
              "      <td>flexible</td>\n",
              "      <td>f</td>\n",
              "      <td>f</td>\n",
              "      <td>1.0</td>\n",
              "      <td>NaN</td>\n",
              "    </tr>\n",
              "    <tr>\n",
              "      <th>4</th>\n",
              "      <td>278830</td>\n",
              "      <td>https://www.airbnb.com/rooms/278830</td>\n",
              "      <td>20160104002432</td>\n",
              "      <td>2016-01-04</td>\n",
              "      <td>Charming craftsman 3 bdm house</td>\n",
              "      <td>Cozy family craftman house in beautiful neighb...</td>\n",
              "      <td>Cozy family craftman house in beautiful neighb...</td>\n",
              "      <td>Cozy family craftman house in beautiful neighb...</td>\n",
              "      <td>none</td>\n",
              "      <td>We are in the beautiful neighborhood of Queen ...</td>\n",
              "      <td>Belltown</td>\n",
              "      <td>The nearest public transit bus (D Line) is 2 b...</td>\n",
              "      <td>NaN</td>\n",
              "      <td>NaN</td>\n",
              "      <td>https://a1.muscache.com/ac/pictures/6120468/b0...</td>\n",
              "      <td>NaN</td>\n",
              "      <td>1452570.0</td>\n",
              "      <td>https://www.airbnb.com/users/show/1452570</td>\n",
              "      <td>Emily</td>\n",
              "      <td>2011-11-29</td>\n",
              "      <td>Seattle, Washington, United States</td>\n",
              "      <td>Hi, I live in Seattle, Washington but I'm orig...</td>\n",
              "      <td>within an hour</td>\n",
              "      <td>100%</td>\n",
              "      <td>NaN</td>\n",
              "      <td>f</td>\n",
              "      <td>https://a0.muscache.com/ac/users/1452570/profi...</td>\n",
              "      <td>https://a0.muscache.com/ac/users/1452570/profi...</td>\n",
              "      <td>Queen Anne</td>\n",
              "      <td>2.0</td>\n",
              "      <td>2.0</td>\n",
              "      <td>['email', 'phone', 'facebook', 'reviews', 'kba']</td>\n",
              "      <td>t</td>\n",
              "      <td>t</td>\n",
              "      <td>14th Ave W, Seattle, WA 98119, United States</td>\n",
              "      <td>Queen Anne</td>\n",
              "      <td>West Queen Anne</td>\n",
              "      <td>Queen Anne</td>\n",
              "      <td>Seattle</td>\n",
              "      <td>WA</td>\n",
              "      <td>...</td>\n",
              "      <td>3.0</td>\n",
              "      <td>3.0</td>\n",
              "      <td>Real Bed</td>\n",
              "      <td>{TV,\"Cable TV\",Internet,\"Wireless Internet\",Ki...</td>\n",
              "      <td>NaN</td>\n",
              "      <td>$450.00</td>\n",
              "      <td>NaN</td>\n",
              "      <td>NaN</td>\n",
              "      <td>$700.00</td>\n",
              "      <td>$125.00</td>\n",
              "      <td>6.0</td>\n",
              "      <td>$15.00</td>\n",
              "      <td>1.0</td>\n",
              "      <td>1125.0</td>\n",
              "      <td>7 weeks ago</td>\n",
              "      <td>t</td>\n",
              "      <td>30.0</td>\n",
              "      <td>60.0</td>\n",
              "      <td>90.0</td>\n",
              "      <td>365.0</td>\n",
              "      <td>2016-01-04</td>\n",
              "      <td>38.0</td>\n",
              "      <td>2012-07-10</td>\n",
              "      <td>2015-10-24</td>\n",
              "      <td>92.0</td>\n",
              "      <td>9.0</td>\n",
              "      <td>9.0</td>\n",
              "      <td>10.0</td>\n",
              "      <td>10.0</td>\n",
              "      <td>9.0</td>\n",
              "      <td>9.0</td>\n",
              "      <td>f</td>\n",
              "      <td>NaN</td>\n",
              "      <td>WASHINGTON</td>\n",
              "      <td>f</td>\n",
              "      <td>strict</td>\n",
              "      <td>f</td>\n",
              "      <td>f</td>\n",
              "      <td>1.0</td>\n",
              "      <td>0.89</td>\n",
              "    </tr>\n",
              "  </tbody>\n",
              "</table>\n",
              "<p>5 rows × 92 columns</p>\n",
              "</div>"
            ],
            "text/plain": [
              "        id  ... reviews_per_month\n",
              "0   241032  ...              4.07\n",
              "1   953595  ...              1.48\n",
              "2  3308979  ...              1.15\n",
              "3  7421966  ...               NaN\n",
              "4   278830  ...              0.89\n",
              "\n",
              "[5 rows x 92 columns]"
            ]
          },
          "metadata": {
            "tags": []
          },
          "execution_count": 70
        }
      ]
    },
    {
      "cell_type": "code",
      "metadata": {
        "id": "Qmx0O5YTNw5V",
        "colab_type": "code",
        "colab": {
          "base_uri": "https://localhost:8080/",
          "height": 195
        },
        "outputId": "58eeba1d-90ff-48c7-9b89-0e3e8e9c79eb"
      },
      "source": [
        "calendar_df.head()"
      ],
      "execution_count": 71,
      "outputs": [
        {
          "output_type": "execute_result",
          "data": {
            "text/html": [
              "<div>\n",
              "<style scoped>\n",
              "    .dataframe tbody tr th:only-of-type {\n",
              "        vertical-align: middle;\n",
              "    }\n",
              "\n",
              "    .dataframe tbody tr th {\n",
              "        vertical-align: top;\n",
              "    }\n",
              "\n",
              "    .dataframe thead th {\n",
              "        text-align: right;\n",
              "    }\n",
              "</style>\n",
              "<table border=\"1\" class=\"dataframe\">\n",
              "  <thead>\n",
              "    <tr style=\"text-align: right;\">\n",
              "      <th></th>\n",
              "      <th>listing_id</th>\n",
              "      <th>date</th>\n",
              "      <th>available</th>\n",
              "      <th>price</th>\n",
              "    </tr>\n",
              "  </thead>\n",
              "  <tbody>\n",
              "    <tr>\n",
              "      <th>0</th>\n",
              "      <td>241032</td>\n",
              "      <td>2016-01-04</td>\n",
              "      <td>t</td>\n",
              "      <td>$85.00</td>\n",
              "    </tr>\n",
              "    <tr>\n",
              "      <th>1</th>\n",
              "      <td>241032</td>\n",
              "      <td>2016-01-05</td>\n",
              "      <td>t</td>\n",
              "      <td>$85.00</td>\n",
              "    </tr>\n",
              "    <tr>\n",
              "      <th>2</th>\n",
              "      <td>241032</td>\n",
              "      <td>2016-01-06</td>\n",
              "      <td>f</td>\n",
              "      <td>NaN</td>\n",
              "    </tr>\n",
              "    <tr>\n",
              "      <th>3</th>\n",
              "      <td>241032</td>\n",
              "      <td>2016-01-07</td>\n",
              "      <td>f</td>\n",
              "      <td>NaN</td>\n",
              "    </tr>\n",
              "    <tr>\n",
              "      <th>4</th>\n",
              "      <td>241032</td>\n",
              "      <td>2016-01-08</td>\n",
              "      <td>f</td>\n",
              "      <td>NaN</td>\n",
              "    </tr>\n",
              "  </tbody>\n",
              "</table>\n",
              "</div>"
            ],
            "text/plain": [
              "   listing_id        date available   price\n",
              "0      241032  2016-01-04         t  $85.00\n",
              "1      241032  2016-01-05         t  $85.00\n",
              "2      241032  2016-01-06         f     NaN\n",
              "3      241032  2016-01-07         f     NaN\n",
              "4      241032  2016-01-08         f     NaN"
            ]
          },
          "metadata": {
            "tags": []
          },
          "execution_count": 71
        }
      ]
    },
    {
      "cell_type": "code",
      "metadata": {
        "id": "YAdEt90eN0Vh",
        "colab_type": "code",
        "colab": {
          "base_uri": "https://localhost:8080/",
          "height": 195
        },
        "outputId": "09918a83-2262-4dc9-9e6d-f835b0ac4d79"
      },
      "source": [
        "reviews_df.head()"
      ],
      "execution_count": 72,
      "outputs": [
        {
          "output_type": "execute_result",
          "data": {
            "text/html": [
              "<div>\n",
              "<style scoped>\n",
              "    .dataframe tbody tr th:only-of-type {\n",
              "        vertical-align: middle;\n",
              "    }\n",
              "\n",
              "    .dataframe tbody tr th {\n",
              "        vertical-align: top;\n",
              "    }\n",
              "\n",
              "    .dataframe thead th {\n",
              "        text-align: right;\n",
              "    }\n",
              "</style>\n",
              "<table border=\"1\" class=\"dataframe\">\n",
              "  <thead>\n",
              "    <tr style=\"text-align: right;\">\n",
              "      <th></th>\n",
              "      <th>listing_id</th>\n",
              "      <th>id</th>\n",
              "      <th>date</th>\n",
              "      <th>reviewer_id</th>\n",
              "      <th>reviewer_name</th>\n",
              "      <th>comments</th>\n",
              "    </tr>\n",
              "  </thead>\n",
              "  <tbody>\n",
              "    <tr>\n",
              "      <th>0</th>\n",
              "      <td>7202016</td>\n",
              "      <td>38917982</td>\n",
              "      <td>2015-07-19</td>\n",
              "      <td>28943674</td>\n",
              "      <td>Bianca</td>\n",
              "      <td>Cute and cozy place. Perfect location to every...</td>\n",
              "    </tr>\n",
              "    <tr>\n",
              "      <th>1</th>\n",
              "      <td>7202016</td>\n",
              "      <td>39087409</td>\n",
              "      <td>2015-07-20</td>\n",
              "      <td>32440555</td>\n",
              "      <td>Frank</td>\n",
              "      <td>Kelly has a great room in a very central locat...</td>\n",
              "    </tr>\n",
              "    <tr>\n",
              "      <th>2</th>\n",
              "      <td>7202016</td>\n",
              "      <td>39820030</td>\n",
              "      <td>2015-07-26</td>\n",
              "      <td>37722850</td>\n",
              "      <td>Ian</td>\n",
              "      <td>Very spacious apartment, and in a great neighb...</td>\n",
              "    </tr>\n",
              "    <tr>\n",
              "      <th>3</th>\n",
              "      <td>7202016</td>\n",
              "      <td>40813543</td>\n",
              "      <td>2015-08-02</td>\n",
              "      <td>33671805</td>\n",
              "      <td>George</td>\n",
              "      <td>Close to Seattle Center and all it has to offe...</td>\n",
              "    </tr>\n",
              "    <tr>\n",
              "      <th>4</th>\n",
              "      <td>7202016</td>\n",
              "      <td>41986501</td>\n",
              "      <td>2015-08-10</td>\n",
              "      <td>34959538</td>\n",
              "      <td>Ming</td>\n",
              "      <td>Kelly was a great host and very accommodating ...</td>\n",
              "    </tr>\n",
              "  </tbody>\n",
              "</table>\n",
              "</div>"
            ],
            "text/plain": [
              "   listing_id  ...                                           comments\n",
              "0     7202016  ...  Cute and cozy place. Perfect location to every...\n",
              "1     7202016  ...  Kelly has a great room in a very central locat...\n",
              "2     7202016  ...  Very spacious apartment, and in a great neighb...\n",
              "3     7202016  ...  Close to Seattle Center and all it has to offe...\n",
              "4     7202016  ...  Kelly was a great host and very accommodating ...\n",
              "\n",
              "[5 rows x 6 columns]"
            ]
          },
          "metadata": {
            "tags": []
          },
          "execution_count": 72
        }
      ]
    },
    {
      "cell_type": "markdown",
      "metadata": {
        "id": "b383SJZDPI6K",
        "colab_type": "text"
      },
      "source": [
        "Let's count the no of rows and columns in calendar and review and listings data"
      ]
    },
    {
      "cell_type": "code",
      "metadata": {
        "id": "9PYFTRx6PH-q",
        "colab_type": "code",
        "colab": {
          "base_uri": "https://localhost:8080/",
          "height": 67
        },
        "outputId": "22ae7726-c617-475f-c37e-c1988eeab5f0"
      },
      "source": [
        "print(\"No of rows and column in reviw dataset\")\n",
        "print(\"Total No of Columns: \", reviews_df.shape[1])\n",
        "print(\"Total No of Rows: \", reviews_df.shape[0])"
      ],
      "execution_count": 73,
      "outputs": [
        {
          "output_type": "stream",
          "text": [
            "No of rows and column in reviw dataset\n",
            "Total No of Columns:  6\n",
            "Total No of Rows:  84849\n"
          ],
          "name": "stdout"
        }
      ]
    },
    {
      "cell_type": "code",
      "metadata": {
        "id": "XJyw7JW_P8-S",
        "colab_type": "code",
        "colab": {
          "base_uri": "https://localhost:8080/",
          "height": 67
        },
        "outputId": "ce0fafd3-ccd3-42ba-fc45-3c023d7c8ba5"
      },
      "source": [
        "print(\"No of rows and columns in Calendar dataset\")\n",
        "print(\"Total No of Columns: \", calendar_df.shape[1])\n",
        "print(\"Total No of Rows: \", calendar_df.shape[0])"
      ],
      "execution_count": 74,
      "outputs": [
        {
          "output_type": "stream",
          "text": [
            "No of rows and columns in Calendar dataset\n",
            "Total No of Columns:  4\n",
            "Total No of Rows:  1393570\n"
          ],
          "name": "stdout"
        }
      ]
    },
    {
      "cell_type": "code",
      "metadata": {
        "id": "1p9LLIRSQXvy",
        "colab_type": "code",
        "colab": {
          "base_uri": "https://localhost:8080/",
          "height": 67
        },
        "outputId": "ba2d4985-8573-4024-ba26-bfdef82373f9"
      },
      "source": [
        "print(\"No of rows and columns in listings dataset\")\n",
        "print(\"Total No of Columns: \", listings_df.shape[1])\n",
        "print(\"Total No of Rows: \", listings_df.shape[0])"
      ],
      "execution_count": 75,
      "outputs": [
        {
          "output_type": "stream",
          "text": [
            "No of rows and columns in listings dataset\n",
            "Total No of Columns:  92\n",
            "Total No of Rows:  714\n"
          ],
          "name": "stdout"
        }
      ]
    },
    {
      "cell_type": "markdown",
      "metadata": {
        "id": "EoApLYOwQ6s4",
        "colab_type": "text"
      },
      "source": [
        "Now we know the no rows and columns in the above datasets \n",
        "Let's try to get more information about these datasets "
      ]
    },
    {
      "cell_type": "code",
      "metadata": {
        "id": "thiY5u72Q5Ef",
        "colab_type": "code",
        "colab": {
          "base_uri": "https://localhost:8080/",
          "height": 304
        },
        "outputId": "c2b3bea0-61ff-4a3c-9e64-a948bba10725"
      },
      "source": [
        "# Describing the listings_df dataset\n",
        "listings_df.describe()"
      ],
      "execution_count": 76,
      "outputs": [
        {
          "output_type": "execute_result",
          "data": {
            "text/html": [
              "<div>\n",
              "<style scoped>\n",
              "    .dataframe tbody tr th:only-of-type {\n",
              "        vertical-align: middle;\n",
              "    }\n",
              "\n",
              "    .dataframe tbody tr th {\n",
              "        vertical-align: top;\n",
              "    }\n",
              "\n",
              "    .dataframe thead th {\n",
              "        text-align: right;\n",
              "    }\n",
              "</style>\n",
              "<table border=\"1\" class=\"dataframe\">\n",
              "  <thead>\n",
              "    <tr style=\"text-align: right;\">\n",
              "      <th></th>\n",
              "      <th>id</th>\n",
              "      <th>scrape_id</th>\n",
              "      <th>host_id</th>\n",
              "      <th>host_listings_count</th>\n",
              "      <th>host_total_listings_count</th>\n",
              "      <th>zipcode</th>\n",
              "      <th>latitude</th>\n",
              "      <th>longitude</th>\n",
              "      <th>accommodates</th>\n",
              "      <th>bathrooms</th>\n",
              "      <th>bedrooms</th>\n",
              "      <th>beds</th>\n",
              "      <th>square_feet</th>\n",
              "      <th>guests_included</th>\n",
              "      <th>minimum_nights</th>\n",
              "      <th>maximum_nights</th>\n",
              "      <th>availability_30</th>\n",
              "      <th>availability_60</th>\n",
              "      <th>availability_90</th>\n",
              "      <th>availability_365</th>\n",
              "      <th>number_of_reviews</th>\n",
              "      <th>review_scores_rating</th>\n",
              "      <th>review_scores_accuracy</th>\n",
              "      <th>review_scores_cleanliness</th>\n",
              "      <th>review_scores_checkin</th>\n",
              "      <th>review_scores_communication</th>\n",
              "      <th>review_scores_location</th>\n",
              "      <th>review_scores_value</th>\n",
              "      <th>license</th>\n",
              "      <th>calculated_host_listings_count</th>\n",
              "      <th>reviews_per_month</th>\n",
              "    </tr>\n",
              "  </thead>\n",
              "  <tbody>\n",
              "    <tr>\n",
              "      <th>count</th>\n",
              "      <td>7.140000e+02</td>\n",
              "      <td>7.140000e+02</td>\n",
              "      <td>7.130000e+02</td>\n",
              "      <td>713.000000</td>\n",
              "      <td>713.000000</td>\n",
              "      <td>711.000000</td>\n",
              "      <td>713.000000</td>\n",
              "      <td>713.000000</td>\n",
              "      <td>713.000000</td>\n",
              "      <td>713.000000</td>\n",
              "      <td>713.000000</td>\n",
              "      <td>713.000000</td>\n",
              "      <td>24.000000</td>\n",
              "      <td>713.000000</td>\n",
              "      <td>713.000000</td>\n",
              "      <td>713.000000</td>\n",
              "      <td>713.000000</td>\n",
              "      <td>713.000000</td>\n",
              "      <td>713.000000</td>\n",
              "      <td>713.000000</td>\n",
              "      <td>713.000000</td>\n",
              "      <td>600.000000</td>\n",
              "      <td>598.000000</td>\n",
              "      <td>600.000000</td>\n",
              "      <td>599.000000</td>\n",
              "      <td>600.000000</td>\n",
              "      <td>599.000000</td>\n",
              "      <td>598.000000</td>\n",
              "      <td>0.0</td>\n",
              "      <td>713.000000</td>\n",
              "      <td>605.000000</td>\n",
              "    </tr>\n",
              "    <tr>\n",
              "      <th>mean</th>\n",
              "      <td>5.439491e+06</td>\n",
              "      <td>2.016010e+13</td>\n",
              "      <td>1.520218e+07</td>\n",
              "      <td>5.098177</td>\n",
              "      <td>5.098177</td>\n",
              "      <td>98110.527426</td>\n",
              "      <td>47.649366</td>\n",
              "      <td>-122.342026</td>\n",
              "      <td>3.604488</td>\n",
              "      <td>1.309958</td>\n",
              "      <td>1.482468</td>\n",
              "      <td>1.880785</td>\n",
              "      <td>1065.791667</td>\n",
              "      <td>1.887798</td>\n",
              "      <td>2.227209</td>\n",
              "      <td>753.683029</td>\n",
              "      <td>15.802244</td>\n",
              "      <td>34.704067</td>\n",
              "      <td>55.023843</td>\n",
              "      <td>242.492286</td>\n",
              "      <td>22.946704</td>\n",
              "      <td>95.100000</td>\n",
              "      <td>9.698997</td>\n",
              "      <td>9.585000</td>\n",
              "      <td>9.804674</td>\n",
              "      <td>9.858333</td>\n",
              "      <td>9.699499</td>\n",
              "      <td>9.513378</td>\n",
              "      <td>NaN</td>\n",
              "      <td>2.845722</td>\n",
              "      <td>2.031008</td>\n",
              "    </tr>\n",
              "    <tr>\n",
              "      <th>std</th>\n",
              "      <td>2.945157e+06</td>\n",
              "      <td>0.000000e+00</td>\n",
              "      <td>1.411527e+07</td>\n",
              "      <td>27.085309</td>\n",
              "      <td>27.085309</td>\n",
              "      <td>6.925277</td>\n",
              "      <td>0.021345</td>\n",
              "      <td>0.027979</td>\n",
              "      <td>2.164079</td>\n",
              "      <td>0.626542</td>\n",
              "      <td>0.981594</td>\n",
              "      <td>1.300857</td>\n",
              "      <td>776.291349</td>\n",
              "      <td>1.626252</td>\n",
              "      <td>2.319069</td>\n",
              "      <td>506.937276</td>\n",
              "      <td>12.404416</td>\n",
              "      <td>23.905906</td>\n",
              "      <td>34.798670</td>\n",
              "      <td>124.033569</td>\n",
              "      <td>34.664321</td>\n",
              "      <td>5.317938</td>\n",
              "      <td>0.623143</td>\n",
              "      <td>0.737347</td>\n",
              "      <td>0.554922</td>\n",
              "      <td>0.471134</td>\n",
              "      <td>0.529892</td>\n",
              "      <td>0.708164</td>\n",
              "      <td>NaN</td>\n",
              "      <td>6.577224</td>\n",
              "      <td>1.796935</td>\n",
              "    </tr>\n",
              "    <tr>\n",
              "      <th>min</th>\n",
              "      <td>6.606000e+03</td>\n",
              "      <td>2.016010e+13</td>\n",
              "      <td>1.494200e+04</td>\n",
              "      <td>1.000000</td>\n",
              "      <td>1.000000</td>\n",
              "      <td>98101.000000</td>\n",
              "      <td>47.602795</td>\n",
              "      <td>-122.397338</td>\n",
              "      <td>1.000000</td>\n",
              "      <td>0.500000</td>\n",
              "      <td>0.000000</td>\n",
              "      <td>1.000000</td>\n",
              "      <td>1.000000</td>\n",
              "      <td>0.000000</td>\n",
              "      <td>1.000000</td>\n",
              "      <td>1.000000</td>\n",
              "      <td>0.000000</td>\n",
              "      <td>0.000000</td>\n",
              "      <td>0.000000</td>\n",
              "      <td>0.000000</td>\n",
              "      <td>0.000000</td>\n",
              "      <td>71.000000</td>\n",
              "      <td>6.000000</td>\n",
              "      <td>6.000000</td>\n",
              "      <td>4.000000</td>\n",
              "      <td>4.000000</td>\n",
              "      <td>8.000000</td>\n",
              "      <td>4.000000</td>\n",
              "      <td>NaN</td>\n",
              "      <td>1.000000</td>\n",
              "      <td>0.030000</td>\n",
              "    </tr>\n",
              "    <tr>\n",
              "      <th>25%</th>\n",
              "      <td>3.195465e+06</td>\n",
              "      <td>2.016010e+13</td>\n",
              "      <td>3.074414e+06</td>\n",
              "      <td>1.000000</td>\n",
              "      <td>1.000000</td>\n",
              "      <td>98105.000000</td>\n",
              "      <td>47.633767</td>\n",
              "      <td>-122.365652</td>\n",
              "      <td>2.000000</td>\n",
              "      <td>1.000000</td>\n",
              "      <td>1.000000</td>\n",
              "      <td>1.000000</td>\n",
              "      <td>476.250000</td>\n",
              "      <td>1.000000</td>\n",
              "      <td>1.000000</td>\n",
              "      <td>45.000000</td>\n",
              "      <td>0.000000</td>\n",
              "      <td>5.000000</td>\n",
              "      <td>21.000000</td>\n",
              "      <td>125.000000</td>\n",
              "      <td>1.000000</td>\n",
              "      <td>93.000000</td>\n",
              "      <td>10.000000</td>\n",
              "      <td>9.000000</td>\n",
              "      <td>10.000000</td>\n",
              "      <td>10.000000</td>\n",
              "      <td>9.000000</td>\n",
              "      <td>9.000000</td>\n",
              "      <td>NaN</td>\n",
              "      <td>1.000000</td>\n",
              "      <td>0.650000</td>\n",
              "    </tr>\n",
              "    <tr>\n",
              "      <th>50%</th>\n",
              "      <td>5.718196e+06</td>\n",
              "      <td>2.016010e+13</td>\n",
              "      <td>1.006144e+07</td>\n",
              "      <td>1.000000</td>\n",
              "      <td>1.000000</td>\n",
              "      <td>98109.000000</td>\n",
              "      <td>47.651586</td>\n",
              "      <td>-122.341800</td>\n",
              "      <td>3.000000</td>\n",
              "      <td>1.000000</td>\n",
              "      <td>1.000000</td>\n",
              "      <td>1.000000</td>\n",
              "      <td>925.000000</td>\n",
              "      <td>1.000000</td>\n",
              "      <td>2.000000</td>\n",
              "      <td>1125.000000</td>\n",
              "      <td>19.000000</td>\n",
              "      <td>43.000000</td>\n",
              "      <td>68.000000</td>\n",
              "      <td>303.000000</td>\n",
              "      <td>9.000000</td>\n",
              "      <td>97.000000</td>\n",
              "      <td>10.000000</td>\n",
              "      <td>10.000000</td>\n",
              "      <td>10.000000</td>\n",
              "      <td>10.000000</td>\n",
              "      <td>10.000000</td>\n",
              "      <td>10.000000</td>\n",
              "      <td>NaN</td>\n",
              "      <td>1.000000</td>\n",
              "      <td>1.460000</td>\n",
              "    </tr>\n",
              "    <tr>\n",
              "      <th>75%</th>\n",
              "      <td>7.922296e+06</td>\n",
              "      <td>2.016010e+13</td>\n",
              "      <td>2.442994e+07</td>\n",
              "      <td>2.000000</td>\n",
              "      <td>2.000000</td>\n",
              "      <td>98119.000000</td>\n",
              "      <td>47.668354</td>\n",
              "      <td>-122.325972</td>\n",
              "      <td>4.000000</td>\n",
              "      <td>1.500000</td>\n",
              "      <td>2.000000</td>\n",
              "      <td>2.000000</td>\n",
              "      <td>1650.000000</td>\n",
              "      <td>2.000000</td>\n",
              "      <td>2.000000</td>\n",
              "      <td>1125.000000</td>\n",
              "      <td>29.000000</td>\n",
              "      <td>59.000000</td>\n",
              "      <td>88.000000</td>\n",
              "      <td>358.000000</td>\n",
              "      <td>30.000000</td>\n",
              "      <td>99.000000</td>\n",
              "      <td>10.000000</td>\n",
              "      <td>10.000000</td>\n",
              "      <td>10.000000</td>\n",
              "      <td>10.000000</td>\n",
              "      <td>10.000000</td>\n",
              "      <td>10.000000</td>\n",
              "      <td>NaN</td>\n",
              "      <td>2.000000</td>\n",
              "      <td>2.880000</td>\n",
              "    </tr>\n",
              "    <tr>\n",
              "      <th>max</th>\n",
              "      <td>1.031037e+07</td>\n",
              "      <td>2.016010e+13</td>\n",
              "      <td>5.305038e+07</td>\n",
              "      <td>354.000000</td>\n",
              "      <td>354.000000</td>\n",
              "      <td>98122.000000</td>\n",
              "      <td>47.690449</td>\n",
              "      <td>-122.282043</td>\n",
              "      <td>16.000000</td>\n",
              "      <td>4.500000</td>\n",
              "      <td>6.000000</td>\n",
              "      <td>15.000000</td>\n",
              "      <td>3000.000000</td>\n",
              "      <td>15.000000</td>\n",
              "      <td>30.000000</td>\n",
              "      <td>1125.000000</td>\n",
              "      <td>30.000000</td>\n",
              "      <td>60.000000</td>\n",
              "      <td>90.000000</td>\n",
              "      <td>365.000000</td>\n",
              "      <td>244.000000</td>\n",
              "      <td>100.000000</td>\n",
              "      <td>10.000000</td>\n",
              "      <td>10.000000</td>\n",
              "      <td>10.000000</td>\n",
              "      <td>10.000000</td>\n",
              "      <td>10.000000</td>\n",
              "      <td>10.000000</td>\n",
              "      <td>NaN</td>\n",
              "      <td>37.000000</td>\n",
              "      <td>12.150000</td>\n",
              "    </tr>\n",
              "  </tbody>\n",
              "</table>\n",
              "</div>"
            ],
            "text/plain": [
              "                 id  ...  reviews_per_month\n",
              "count  7.140000e+02  ...         605.000000\n",
              "mean   5.439491e+06  ...           2.031008\n",
              "std    2.945157e+06  ...           1.796935\n",
              "min    6.606000e+03  ...           0.030000\n",
              "25%    3.195465e+06  ...           0.650000\n",
              "50%    5.718196e+06  ...           1.460000\n",
              "75%    7.922296e+06  ...           2.880000\n",
              "max    1.031037e+07  ...          12.150000\n",
              "\n",
              "[8 rows x 31 columns]"
            ]
          },
          "metadata": {
            "tags": []
          },
          "execution_count": 76
        }
      ]
    },
    {
      "cell_type": "code",
      "metadata": {
        "id": "E2vif9WBRTP-",
        "colab_type": "code",
        "colab": {
          "base_uri": "https://localhost:8080/",
          "height": 1000
        },
        "outputId": "4d2f1786-0de2-4d7c-d609-99cf4d95b0cf"
      },
      "source": [
        "# Getting the information about the listings_df datasets to understand the datatypes and how many of them are having any null vaues\n",
        "listings_df.info()"
      ],
      "execution_count": 77,
      "outputs": [
        {
          "output_type": "stream",
          "text": [
            "<class 'pandas.core.frame.DataFrame'>\n",
            "RangeIndex: 714 entries, 0 to 713\n",
            "Data columns (total 92 columns):\n",
            " #   Column                            Non-Null Count  Dtype  \n",
            "---  ------                            --------------  -----  \n",
            " 0   id                                714 non-null    int64  \n",
            " 1   listing_url                       714 non-null    object \n",
            " 2   scrape_id                         714 non-null    int64  \n",
            " 3   last_scraped                      714 non-null    object \n",
            " 4   name                              714 non-null    object \n",
            " 5   summary                           681 non-null    object \n",
            " 6   space                             615 non-null    object \n",
            " 7   description                       714 non-null    object \n",
            " 8   experiences_offered               714 non-null    object \n",
            " 9   neighborhood_overview             548 non-null    object \n",
            " 10  notes                             403 non-null    object \n",
            " 11  transit                           554 non-null    object \n",
            " 12  thumbnail_url                     588 non-null    object \n",
            " 13  medium_url                        588 non-null    object \n",
            " 14  picture_url                       714 non-null    object \n",
            " 15  xl_picture_url                    587 non-null    object \n",
            " 16  host_id                           713 non-null    float64\n",
            " 17  host_url                          713 non-null    object \n",
            " 18  host_name                         713 non-null    object \n",
            " 19  host_since                        713 non-null    object \n",
            " 20  host_location                     712 non-null    object \n",
            " 21  host_about                        564 non-null    object \n",
            " 22  host_response_time                616 non-null    object \n",
            " 23  host_response_rate                616 non-null    object \n",
            " 24  host_acceptance_rate              561 non-null    object \n",
            " 25  host_is_superhost                 713 non-null    object \n",
            " 26  host_thumbnail_url                713 non-null    object \n",
            " 27  host_picture_url                  713 non-null    object \n",
            " 28  host_neighbourhood                655 non-null    object \n",
            " 29  host_listings_count               713 non-null    float64\n",
            " 30  host_total_listings_count         713 non-null    float64\n",
            " 31  host_verifications                713 non-null    object \n",
            " 32  host_has_profile_pic              713 non-null    object \n",
            " 33  host_identity_verified            713 non-null    object \n",
            " 34  street                            713 non-null    object \n",
            " 35  neighbourhood                     637 non-null    object \n",
            " 36  neighbourhood_cleansed            713 non-null    object \n",
            " 37  neighbourhood_group_cleansed      713 non-null    object \n",
            " 38  city                              713 non-null    object \n",
            " 39  state                             713 non-null    object \n",
            " 40  zipcode                           711 non-null    float64\n",
            " 41  market                            713 non-null    object \n",
            " 42  smart_location                    713 non-null    object \n",
            " 43  country_code                      713 non-null    object \n",
            " 44  country                           713 non-null    object \n",
            " 45  latitude                          713 non-null    float64\n",
            " 46  longitude                         713 non-null    float64\n",
            " 47  is_location_exact                 713 non-null    object \n",
            " 48  property_type                     713 non-null    object \n",
            " 49  room_type                         713 non-null    object \n",
            " 50  accommodates                      713 non-null    float64\n",
            " 51  bathrooms                         713 non-null    float64\n",
            " 52  bedrooms                          713 non-null    float64\n",
            " 53  beds                              713 non-null    float64\n",
            " 54  bed_type                          713 non-null    object \n",
            " 55  amenities                         713 non-null    object \n",
            " 56  square_feet                       24 non-null     float64\n",
            " 57  price                             713 non-null    object \n",
            " 58  weekly_price                      396 non-null    object \n",
            " 59  monthly_price                     286 non-null    object \n",
            " 60  security_deposit                  390 non-null    object \n",
            " 61  cleaning_fee                      542 non-null    object \n",
            " 62  guests_included                   713 non-null    float64\n",
            " 63  extra_people                      713 non-null    object \n",
            " 64  minimum_nights                    713 non-null    float64\n",
            " 65  maximum_nights                    713 non-null    float64\n",
            " 66  calendar_updated                  713 non-null    object \n",
            " 67  has_availability                  713 non-null    object \n",
            " 68  availability_30                   713 non-null    float64\n",
            " 69  availability_60                   713 non-null    float64\n",
            " 70  availability_90                   713 non-null    float64\n",
            " 71  availability_365                  713 non-null    float64\n",
            " 72  calendar_last_scraped             713 non-null    object \n",
            " 73  number_of_reviews                 713 non-null    float64\n",
            " 74  first_review                      605 non-null    object \n",
            " 75  last_review                       605 non-null    object \n",
            " 76  review_scores_rating              600 non-null    float64\n",
            " 77  review_scores_accuracy            598 non-null    float64\n",
            " 78  review_scores_cleanliness         600 non-null    float64\n",
            " 79  review_scores_checkin             599 non-null    float64\n",
            " 80  review_scores_communication       600 non-null    float64\n",
            " 81  review_scores_location            599 non-null    float64\n",
            " 82  review_scores_value               598 non-null    float64\n",
            " 83  requires_license                  713 non-null    object \n",
            " 84  license                           0 non-null      float64\n",
            " 85  jurisdiction_names                713 non-null    object \n",
            " 86  instant_bookable                  713 non-null    object \n",
            " 87  cancellation_policy               713 non-null    object \n",
            " 88  require_guest_profile_picture     713 non-null    object \n",
            " 89  require_guest_phone_verification  713 non-null    object \n",
            " 90  calculated_host_listings_count    713 non-null    float64\n",
            " 91  reviews_per_month                 605 non-null    float64\n",
            "dtypes: float64(29), int64(2), object(61)\n",
            "memory usage: 513.3+ KB\n"
          ],
          "name": "stdout"
        }
      ]
    },
    {
      "cell_type": "code",
      "metadata": {
        "id": "4TX2NeD0RrlF",
        "colab_type": "code",
        "colab": {
          "base_uri": "https://localhost:8080/",
          "height": 34
        },
        "outputId": "983cc798-ccc9-4237-c646-4cf0a01f4bda"
      },
      "source": [
        "# Counting the no of columns having missing values \n",
        "sum(listings_df.isnull().any())"
      ],
      "execution_count": 78,
      "outputs": [
        {
          "output_type": "execute_result",
          "data": {
            "text/plain": [
              "84"
            ]
          },
          "metadata": {
            "tags": []
          },
          "execution_count": 78
        }
      ]
    },
    {
      "cell_type": "code",
      "metadata": {
        "id": "8e2YooosTfYJ",
        "colab_type": "code",
        "colab": {
          "base_uri": "https://localhost:8080/",
          "height": 67
        },
        "outputId": "e763ecc1-98cd-4ad0-a91b-b1d0de9dba9d"
      },
      "source": [
        "# No of columns that have missing values in listings datasets\n",
        "listings_df.columns[listings_df.isnull().mean() == 0]"
      ],
      "execution_count": 79,
      "outputs": [
        {
          "output_type": "execute_result",
          "data": {
            "text/plain": [
              "Index(['id', 'listing_url', 'scrape_id', 'last_scraped', 'name', 'description',\n",
              "       'experiences_offered', 'picture_url'],\n",
              "      dtype='object')"
            ]
          },
          "metadata": {
            "tags": []
          },
          "execution_count": 79
        }
      ]
    },
    {
      "cell_type": "code",
      "metadata": {
        "id": "jKtJ2UoKT3vF",
        "colab_type": "code",
        "colab": {
          "base_uri": "https://localhost:8080/",
          "height": 34
        },
        "outputId": "485170ee-fb99-4371-f49d-5e8a92a20c70"
      },
      "source": [
        "# No of columns that have more than 75% missing dataset\n",
        "listings_df.columns[listings_df.isnull().mean() > 0.75]"
      ],
      "execution_count": 80,
      "outputs": [
        {
          "output_type": "execute_result",
          "data": {
            "text/plain": [
              "Index(['square_feet', 'license'], dtype='object')"
            ]
          },
          "metadata": {
            "tags": []
          },
          "execution_count": 80
        }
      ]
    },
    {
      "cell_type": "code",
      "metadata": {
        "id": "80gMbW82UcBb",
        "colab_type": "code",
        "colab": {
          "base_uri": "https://localhost:8080/",
          "height": 34
        },
        "outputId": "411fe338-baab-482e-8d20-5cb4beceaa58"
      },
      "source": [
        "# No of columns that have more than 50% missing dataset\n",
        "listings_df.columns[listings_df.isnull().mean() > 0.5]"
      ],
      "execution_count": 81,
      "outputs": [
        {
          "output_type": "execute_result",
          "data": {
            "text/plain": [
              "Index(['square_feet', 'monthly_price', 'license'], dtype='object')"
            ]
          },
          "metadata": {
            "tags": []
          },
          "execution_count": 81
        }
      ]
    },
    {
      "cell_type": "code",
      "metadata": {
        "id": "4xF4fG8fU1BM",
        "colab_type": "code",
        "colab": {
          "base_uri": "https://localhost:8080/",
          "height": 34
        },
        "outputId": "faae4c98-bb79-461a-9430-ec687ea268f8"
      },
      "source": [
        "# No of columns that don't have missing values\n",
        "sum(listings_df.notnull().all())"
      ],
      "execution_count": 82,
      "outputs": [
        {
          "output_type": "execute_result",
          "data": {
            "text/plain": [
              "8"
            ]
          },
          "metadata": {
            "tags": []
          },
          "execution_count": 82
        }
      ]
    },
    {
      "cell_type": "code",
      "metadata": {
        "id": "qzSoi1zHVF9l",
        "colab_type": "code",
        "colab": {
          "base_uri": "https://localhost:8080/",
          "height": 67
        },
        "outputId": "66d2f77f-751a-4f79-e6d9-c86ba2185d84"
      },
      "source": [
        "# Name of the columns that have missing value 0\n",
        "not_null_columns = listings_df.columns[listings_df.isnull().mean() == 0]\n",
        "not_null_columns"
      ],
      "execution_count": 83,
      "outputs": [
        {
          "output_type": "execute_result",
          "data": {
            "text/plain": [
              "Index(['id', 'listing_url', 'scrape_id', 'last_scraped', 'name', 'description',\n",
              "       'experiences_offered', 'picture_url'],\n",
              "      dtype='object')"
            ]
          },
          "metadata": {
            "tags": []
          },
          "execution_count": 83
        }
      ]
    },
    {
      "cell_type": "code",
      "metadata": {
        "id": "72nphO4BWrVC",
        "colab_type": "code",
        "colab": {
          "base_uri": "https://localhost:8080/",
          "height": 470
        },
        "outputId": "84dfece3-92f4-41d8-c378-f5057dc61cb5"
      },
      "source": [
        "# Columns with having any missing values\n",
        "null_columns = listings_df.columns[listings_df.isnull().any()]\n",
        "null_columns"
      ],
      "execution_count": 84,
      "outputs": [
        {
          "output_type": "execute_result",
          "data": {
            "text/plain": [
              "Index(['summary', 'space', 'neighborhood_overview', 'notes', 'transit',\n",
              "       'thumbnail_url', 'medium_url', 'xl_picture_url', 'host_id', 'host_url',\n",
              "       'host_name', 'host_since', 'host_location', 'host_about',\n",
              "       'host_response_time', 'host_response_rate', 'host_acceptance_rate',\n",
              "       'host_is_superhost', 'host_thumbnail_url', 'host_picture_url',\n",
              "       'host_neighbourhood', 'host_listings_count',\n",
              "       'host_total_listings_count', 'host_verifications',\n",
              "       'host_has_profile_pic', 'host_identity_verified', 'street',\n",
              "       'neighbourhood', 'neighbourhood_cleansed',\n",
              "       'neighbourhood_group_cleansed', 'city', 'state', 'zipcode', 'market',\n",
              "       'smart_location', 'country_code', 'country', 'latitude', 'longitude',\n",
              "       'is_location_exact', 'property_type', 'room_type', 'accommodates',\n",
              "       'bathrooms', 'bedrooms', 'beds', 'bed_type', 'amenities', 'square_feet',\n",
              "       'price', 'weekly_price', 'monthly_price', 'security_deposit',\n",
              "       'cleaning_fee', 'guests_included', 'extra_people', 'minimum_nights',\n",
              "       'maximum_nights', 'calendar_updated', 'has_availability',\n",
              "       'availability_30', 'availability_60', 'availability_90',\n",
              "       'availability_365', 'calendar_last_scraped', 'number_of_reviews',\n",
              "       'first_review', 'last_review', 'review_scores_rating',\n",
              "       'review_scores_accuracy', 'review_scores_cleanliness',\n",
              "       'review_scores_checkin', 'review_scores_communication',\n",
              "       'review_scores_location', 'review_scores_value', 'requires_license',\n",
              "       'license', 'jurisdiction_names', 'instant_bookable',\n",
              "       'cancellation_policy', 'require_guest_profile_picture',\n",
              "       'require_guest_phone_verification', 'calculated_host_listings_count',\n",
              "       'reviews_per_month'],\n",
              "      dtype='object')"
            ]
          },
          "metadata": {
            "tags": []
          },
          "execution_count": 84
        }
      ]
    },
    {
      "cell_type": "code",
      "metadata": {
        "id": "eqKbV5hFW8mb",
        "colab_type": "code",
        "colab": {
          "base_uri": "https://localhost:8080/",
          "height": 34
        },
        "outputId": "e858f675-bcf6-427f-f9e9-623c08da9437"
      },
      "source": [
        "# Now let's explore the no of categorical and numerical columns in the datasets\n",
        "# No of categorical columns\n",
        "Categorical_Features = listings_df.select_dtypes(include = ['object']) #.shape[1])\n",
        "Categorical_Features.shape[1]"
      ],
      "execution_count": 85,
      "outputs": [
        {
          "output_type": "execute_result",
          "data": {
            "text/plain": [
              "61"
            ]
          },
          "metadata": {
            "tags": []
          },
          "execution_count": 85
        }
      ]
    },
    {
      "cell_type": "code",
      "metadata": {
        "id": "LRMCCflKXlS9",
        "colab_type": "code",
        "colab": {
          "base_uri": "https://localhost:8080/",
          "height": 34
        },
        "outputId": "5ef528bc-51ce-4f59-dc01-4a386503709f"
      },
      "source": [
        "# Counting the numeric columns \n",
        "Numeric_Features = listings_df.select_dtypes(include = ['int', 'float'])\n",
        "Numeric_Features.shape[1]"
      ],
      "execution_count": 86,
      "outputs": [
        {
          "output_type": "execute_result",
          "data": {
            "text/plain": [
              "31"
            ]
          },
          "metadata": {
            "tags": []
          },
          "execution_count": 86
        }
      ]
    },
    {
      "cell_type": "code",
      "metadata": {
        "id": "SYiOCGecYnEs",
        "colab_type": "code",
        "colab": {
          "base_uri": "https://localhost:8080/",
          "height": 336
        },
        "outputId": "81d20b36-37a8-43d4-f151-4c41b3d2e310"
      },
      "source": [
        "# Getting the name of the Categorical Features\n",
        "Categorical_Features.columns\n"
      ],
      "execution_count": 87,
      "outputs": [
        {
          "output_type": "execute_result",
          "data": {
            "text/plain": [
              "Index(['listing_url', 'last_scraped', 'name', 'summary', 'space',\n",
              "       'description', 'experiences_offered', 'neighborhood_overview', 'notes',\n",
              "       'transit', 'thumbnail_url', 'medium_url', 'picture_url',\n",
              "       'xl_picture_url', 'host_url', 'host_name', 'host_since',\n",
              "       'host_location', 'host_about', 'host_response_time',\n",
              "       'host_response_rate', 'host_acceptance_rate', 'host_is_superhost',\n",
              "       'host_thumbnail_url', 'host_picture_url', 'host_neighbourhood',\n",
              "       'host_verifications', 'host_has_profile_pic', 'host_identity_verified',\n",
              "       'street', 'neighbourhood', 'neighbourhood_cleansed',\n",
              "       'neighbourhood_group_cleansed', 'city', 'state', 'market',\n",
              "       'smart_location', 'country_code', 'country', 'is_location_exact',\n",
              "       'property_type', 'room_type', 'bed_type', 'amenities', 'price',\n",
              "       'weekly_price', 'monthly_price', 'security_deposit', 'cleaning_fee',\n",
              "       'extra_people', 'calendar_updated', 'has_availability',\n",
              "       'calendar_last_scraped', 'first_review', 'last_review',\n",
              "       'requires_license', 'jurisdiction_names', 'instant_bookable',\n",
              "       'cancellation_policy', 'require_guest_profile_picture',\n",
              "       'require_guest_phone_verification'],\n",
              "      dtype='object')"
            ]
          },
          "metadata": {
            "tags": []
          },
          "execution_count": 87
        }
      ]
    },
    {
      "cell_type": "markdown",
      "metadata": {
        "id": "oMYtJlSf7yNC",
        "colab_type": "text"
      },
      "source": [
        "Now Cleaning Price and other money related column"
      ]
    },
    {
      "cell_type": "code",
      "metadata": {
        "id": "7ibSHRBmY43V",
        "colab_type": "code",
        "colab": {}
      },
      "source": [
        "# Cleaning (replace '$) and formating price-related columns\n",
        "listings_df.price = listings_df.price.str.replace('$', '').str.replace(',', '').astype(float)\n",
        "listings_df.monthly_price = listings_df.monthly_price.str.replace('$', '').str.replace(',', '').astype(float)\n",
        "listings_df.weekly_price = listings_df.weekly_price.str.replace('$', '').str.replace(',', '').astype(float)\n",
        "listings_df.security_deposit = listings_df.security_deposit.str.replace('$', '').str.replace(',', '').astype(float)\n",
        "listings_df.cleaning_fee = listings_df.cleaning_fee.str.replace('$', '').str.replace(',', '').astype(float)\n",
        "listings_df.extra_people = listings_df.extra_people.str.replace('$', '').str.replace(',', '').astype(float)"
      ],
      "execution_count": 0,
      "outputs": []
    },
    {
      "cell_type": "markdown",
      "metadata": {
        "id": "8ElD2LMG9Xzn",
        "colab_type": "text"
      },
      "source": [
        "# Question 1- Analysing Room Types, Their Percentage and Price range on Airbnb\n",
        "\n"
      ]
    },
    {
      "cell_type": "code",
      "metadata": {
        "id": "VLR8EHqC9Vg8",
        "colab_type": "code",
        "colab": {
          "base_uri": "https://localhost:8080/",
          "height": 67
        },
        "outputId": "50bc3d67-0c45-473f-af34-bf74fe960418"
      },
      "source": [
        "# Checking suspiciously low prices\n",
        "print(listings_df[(['price', 'name'])][listings_df.price<20])"
      ],
      "execution_count": 89,
      "outputs": [
        {
          "output_type": "stream",
          "text": [
            "Empty DataFrame\n",
            "Columns: [price, name]\n",
            "Index: []\n"
          ],
          "name": "stdout"
        }
      ]
    },
    {
      "cell_type": "code",
      "metadata": {
        "id": "7NfLiEKN-n3i",
        "colab_type": "code",
        "colab": {
          "base_uri": "https://localhost:8080/",
          "height": 119
        },
        "outputId": "9885bc4e-c686-4184-a4cf-bbfd812bc231"
      },
      "source": [
        "# Checking suspiciously high prices \n",
        "listings_df['price'].plot(kind = 'box', xlim = (0,600),vert = False, figsize = (16,1))"
      ],
      "execution_count": 90,
      "outputs": [
        {
          "output_type": "execute_result",
          "data": {
            "text/plain": [
              "<matplotlib.axes._subplots.AxesSubplot at 0x7fe7a357ae80>"
            ]
          },
          "metadata": {
            "tags": []
          },
          "execution_count": 90
        },
        {
          "output_type": "display_data",
          "data": {
            "image/png": "[encoded data removed]",
            "text/plain": [
              "<Figure size 1152x72 with 1 Axes>"
            ]
          },
          "metadata": {
            "tags": [],
            "needs_background": "light"
          }
        }
      ]
    },
    {
      "cell_type": "code",
      "metadata": {
        "id": "w6TT1Hza_CKq",
        "colab_type": "code",
        "colab": {
          "base_uri": "https://localhost:8080/",
          "height": 1000
        },
        "outputId": "25b7ba8a-b207-4628-e65c-f7ae81ec608a"
      },
      "source": [
        "# histogram of listing data columns\n",
        "listings_df.hist(figsize = (20,20),)"
      ],
      "execution_count": 91,
      "outputs": [
        {
          "output_type": "execute_result",
          "data": {
            "text/plain": [
              "array([[<matplotlib.axes._subplots.AxesSubplot object at 0x7fe796ebcc50>,\n",
              "        <matplotlib.axes._subplots.AxesSubplot object at 0x7fe7a367f9b0>,\n",
              "        <matplotlib.axes._subplots.AxesSubplot object at 0x7fe7a36160b8>,\n",
              "        <matplotlib.axes._subplots.AxesSubplot object at 0x7fe7a35f3710>,\n",
              "        <matplotlib.axes._subplots.AxesSubplot object at 0x7fe7a381f978>,\n",
              "        <matplotlib.axes._subplots.AxesSubplot object at 0x7fe7a3518518>],\n",
              "       [<matplotlib.axes._subplots.AxesSubplot object at 0x7fe7a355ae48>,\n",
              "        <matplotlib.axes._subplots.AxesSubplot object at 0x7fe7a213c588>,\n",
              "        <matplotlib.axes._subplots.AxesSubplot object at 0x7fe7a213c5f8>,\n",
              "        <matplotlib.axes._subplots.AxesSubplot object at 0x7fe7a216fcc0>,\n",
              "        <matplotlib.axes._subplots.AxesSubplot object at 0x7fe7988d3f98>,\n",
              "        <matplotlib.axes._subplots.AxesSubplot object at 0x7fe7a21c3400>],\n",
              "       [<matplotlib.axes._subplots.AxesSubplot object at 0x7fe7a384b780>,\n",
              "        <matplotlib.axes._subplots.AxesSubplot object at 0x7fe7a2216b00>,\n",
              "        <matplotlib.axes._subplots.AxesSubplot object at 0x7fe7a37afe80>,\n",
              "        <matplotlib.axes._subplots.AxesSubplot object at 0x7fe7a3986240>,\n",
              "        <matplotlib.axes._subplots.AxesSubplot object at 0x7fe7a399c5c0>,\n",
              "        <matplotlib.axes._subplots.AxesSubplot object at 0x7fe7a3e34940>],\n",
              "       [<matplotlib.axes._subplots.AxesSubplot object at 0x7fe7a3baacc0>,\n",
              "        <matplotlib.axes._subplots.AxesSubplot object at 0x7fe7a3ca0080>,\n",
              "        <matplotlib.axes._subplots.AxesSubplot object at 0x7fe7a225f400>,\n",
              "        <matplotlib.axes._subplots.AxesSubplot object at 0x7fe7a229f780>,\n",
              "        <matplotlib.axes._subplots.AxesSubplot object at 0x7fe7a2276b00>,\n",
              "        <matplotlib.axes._subplots.AxesSubplot object at 0x7fe7a22ace80>],\n",
              "       [<matplotlib.axes._subplots.AxesSubplot object at 0x7fe7a3b2e240>,\n",
              "        <matplotlib.axes._subplots.AxesSubplot object at 0x7fe7a3d2b5c0>,\n",
              "        <matplotlib.axes._subplots.AxesSubplot object at 0x7fe7a364b940>,\n",
              "        <matplotlib.axes._subplots.AxesSubplot object at 0x7fe7a3e6acc0>,\n",
              "        <matplotlib.axes._subplots.AxesSubplot object at 0x7fe7a3de8080>,\n",
              "        <matplotlib.axes._subplots.AxesSubplot object at 0x7fe7a3e18400>],\n",
              "       [<matplotlib.axes._subplots.AxesSubplot object at 0x7fe7a3dca780>,\n",
              "        <matplotlib.axes._subplots.AxesSubplot object at 0x7fe7a3d7cb00>,\n",
              "        <matplotlib.axes._subplots.AxesSubplot object at 0x7fe7a3cf0e80>,\n",
              "        <matplotlib.axes._subplots.AxesSubplot object at 0x7fe7a141a160>,\n",
              "        <matplotlib.axes._subplots.AxesSubplot object at 0x7fe7a3603518>,\n",
              "        <matplotlib.axes._subplots.AxesSubplot object at 0x7fe798420d30>],\n",
              "       [<matplotlib.axes._subplots.AxesSubplot object at 0x7fe79842b128>,\n",
              "        <matplotlib.axes._subplots.AxesSubplot object at 0x7fe798914b00>,\n",
              "        <matplotlib.axes._subplots.AxesSubplot object at 0x7fe798978be0>,\n",
              "        <matplotlib.axes._subplots.AxesSubplot object at 0x7fe7989f1390>,\n",
              "        <matplotlib.axes._subplots.AxesSubplot object at 0x7fe7957c4400>,\n",
              "        <matplotlib.axes._subplots.AxesSubplot object at 0x7fe7a09a0470>]],\n",
              "      dtype=object)"
            ]
          },
          "metadata": {
            "tags": []
          },
          "execution_count": 91
        },
        {
          "output_type": "display_data",
          "data": {
            "image/png": "[encoded data removed]",
            "text/plain": [
              "<Figure size 1440x1440 with 42 Axes>"
            ]
          },
          "metadata": {
            "tags": [],
            "needs_background": "light"
          }
        }
      ]
    },
    {
      "cell_type": "markdown",
      "metadata": {
        "id": "YUt9639BA8--",
        "colab_type": "text"
      },
      "source": [
        "What conclusion we can draw from the above histograms\n",
        "1. Very few have rent above \\$1000 and mostly have their rent below \\$200\n",
        "2. Also weekly price for Airbnb Seattle is mostly less than \\$1100 but in some cases it shoorts upto \\$5000\n",
        "3. We can see from availability_365 histogram that rooms are highly available at the end of year"
      ]
    },
    {
      "cell_type": "code",
      "metadata": {
        "id": "OFjatnFO_iNy",
        "colab_type": "code",
        "colab": {
          "base_uri": "https://localhost:8080/",
          "height": 84
        },
        "outputId": "a059af48-0b4e-4665-87a8-84d986291c33"
      },
      "source": [
        "# let calculate the proportion of room type values in listings_df dataset\n",
        "room = listings_df.room_type.value_counts()\n",
        "room"
      ],
      "execution_count": 92,
      "outputs": [
        {
          "output_type": "execute_result",
          "data": {
            "text/plain": [
              "Entire home/apt    488\n",
              "Private room       203\n",
              "Shared room         22\n",
              "Name: room_type, dtype: int64"
            ]
          },
          "metadata": {
            "tags": []
          },
          "execution_count": 92
        }
      ]
    },
    {
      "cell_type": "markdown",
      "metadata": {
        "id": "V-8Os2uHCwuW",
        "colab_type": "text"
      },
      "source": [
        "We can see we have 3 types of room available at AirBnB Seattle"
      ]
    },
    {
      "cell_type": "code",
      "metadata": {
        "id": "PNG4JqmVCqUt",
        "colab_type": "code",
        "colab": {
          "base_uri": "https://localhost:8080/",
          "height": 101
        },
        "outputId": "4dedf77a-ee92-48e4-bf1d-486517c0d18d"
      },
      "source": [
        "# Calculating the proportion of each type room available at AirBnB Seattle\n",
        "print(\"Proportion of Room Types\")\n",
        "percentages = room/listings_df.shape[0]\n",
        "print(percentages)"
      ],
      "execution_count": 93,
      "outputs": [
        {
          "output_type": "stream",
          "text": [
            "Proportion of Room Types\n",
            "Entire home/apt    0.683473\n",
            "Private room       0.284314\n",
            "Shared room        0.030812\n",
            "Name: room_type, dtype: float64\n"
          ],
          "name": "stdout"
        }
      ]
    },
    {
      "cell_type": "code",
      "metadata": {
        "id": "UlPVLyQoDXln",
        "colab_type": "code",
        "colab": {
          "base_uri": "https://localhost:8080/",
          "height": 101
        },
        "outputId": "bac4d739-40ab-4f7d-aaa4-604edaedc8d0"
      },
      "source": [
        "# mean prices per night for each room type\n",
        "mean_price_per_night = listings_df.groupby('room_type').mean()['price']\n",
        "mean_price_per_night"
      ],
      "execution_count": 94,
      "outputs": [
        {
          "output_type": "execute_result",
          "data": {
            "text/plain": [
              "room_type\n",
              "Entire home/apt    173.057377\n",
              "Private room        75.655172\n",
              "Shared room         41.818182\n",
              "Name: price, dtype: float64"
            ]
          },
          "metadata": {
            "tags": []
          },
          "execution_count": 94
        }
      ]
    },
    {
      "cell_type": "markdown",
      "metadata": {
        "id": "eEZK40jaEAEj",
        "colab_type": "text"
      },
      "source": [
        "From the above analysis we can see that opting for home/apt is much costlier than Private or Shared room"
      ]
    },
    {
      "cell_type": "markdown",
      "metadata": {
        "id": "YIcvojuTEQAp",
        "colab_type": "text"
      },
      "source": [
        "# Question 2: Analysing Room Availability and Best Time to visit Seattle using month of the year and price\n",
        "\n"
      ]
    },
    {
      "cell_type": "code",
      "metadata": {
        "id": "ynhLC0uUD3xB",
        "colab_type": "code",
        "colab": {
          "base_uri": "https://localhost:8080/",
          "height": 34
        },
        "outputId": "99efb3e2-052b-4f92-efd7-29bd20ddc84e"
      },
      "source": [
        "# Using the calendar_df datasets\n",
        "# Checking if there is any null columns in calendar_df datasets\n",
        "calendar_df.columns[calendar_df.isnull().any()]"
      ],
      "execution_count": 95,
      "outputs": [
        {
          "output_type": "execute_result",
          "data": {
            "text/plain": [
              "Index(['price'], dtype='object')"
            ]
          },
          "metadata": {
            "tags": []
          },
          "execution_count": 95
        }
      ]
    },
    {
      "cell_type": "code",
      "metadata": {
        "id": "YpHYp8syFJFM",
        "colab_type": "code",
        "colab": {
          "base_uri": "https://localhost:8080/",
          "height": 101
        },
        "outputId": "76ed9fb0-f676-4f2e-b0cc-b7dbf5749442"
      },
      "source": [
        "calendar_df.isnull().sum()"
      ],
      "execution_count": 96,
      "outputs": [
        {
          "output_type": "execute_result",
          "data": {
            "text/plain": [
              "listing_id         0\n",
              "date               0\n",
              "available          0\n",
              "price         459028\n",
              "dtype: int64"
            ]
          },
          "metadata": {
            "tags": []
          },
          "execution_count": 96
        }
      ]
    },
    {
      "cell_type": "code",
      "metadata": {
        "id": "kGiPYVXZFQl6",
        "colab_type": "code",
        "colab": {
          "base_uri": "https://localhost:8080/",
          "height": 67
        },
        "outputId": "d6ebe46c-17b8-46a7-b1a7-c177a6e517b9"
      },
      "source": [
        "# availability of listings\n",
        "calendar_df.available.value_counts()/calendar_df.shape[0]"
      ],
      "execution_count": 97,
      "outputs": [
        {
          "output_type": "execute_result",
          "data": {
            "text/plain": [
              "t    0.67061\n",
              "f    0.32939\n",
              "Name: available, dtype: float64"
            ]
          },
          "metadata": {
            "tags": []
          },
          "execution_count": 97
        }
      ]
    },
    {
      "cell_type": "code",
      "metadata": {
        "id": "Z-DbHySIFoQt",
        "colab_type": "code",
        "colab": {}
      },
      "source": [
        "# Convert datetime object to datetime\n",
        "calendar_df['Datetime'] = pd.to_datetime(calendar_df['date'], format = \"%Y/%m/%d\")"
      ],
      "execution_count": 0,
      "outputs": []
    },
    {
      "cell_type": "code",
      "metadata": {
        "id": "VUdlPsbuGIw1",
        "colab_type": "code",
        "colab": {}
      },
      "source": [
        "# Picking only the monthly column \n",
        "calendar_df['month'] = pd.DatetimeIndex(calendar_df['Datetime']).month"
      ],
      "execution_count": 0,
      "outputs": []
    },
    {
      "cell_type": "code",
      "metadata": {
        "id": "dlKj7lJOG_E_",
        "colab_type": "code",
        "colab": {}
      },
      "source": [
        "calendar_df['Month'] = calendar_df['Datetime'].dt.strftime('%b')"
      ],
      "execution_count": 0,
      "outputs": []
    },
    {
      "cell_type": "code",
      "metadata": {
        "id": "W4R0gZ3sHUid",
        "colab_type": "code",
        "colab": {
          "base_uri": "https://localhost:8080/",
          "height": 252
        },
        "outputId": "b5c9a592-74b3-4ee2-fc78-c0a859670934"
      },
      "source": [
        "# Let's group only available data by month\n",
        "availability_room_by_month = calendar_df[calendar_df['available'] == 't'].groupby(['Month']).count()['listing_id'].sort_values(ascending = False)\n",
        "availability_room_by_month"
      ],
      "execution_count": 101,
      "outputs": [
        {
          "output_type": "execute_result",
          "data": {
            "text/plain": [
              "Month\n",
              "Dec    87061\n",
              "Mar    83938\n",
              "Oct    82438\n",
              "Nov    81780\n",
              "May    79971\n",
              "Sep    77246\n",
              "Jun    77244\n",
              "Aug    76347\n",
              "Apr    76037\n",
              "Jul    74222\n",
              "Feb    73321\n",
              "Jan    64937\n",
              "Name: listing_id, dtype: int64"
            ]
          },
          "metadata": {
            "tags": []
          },
          "execution_count": 101
        }
      ]
    },
    {
      "cell_type": "markdown",
      "metadata": {
        "id": "5mmL-0X-IX4q",
        "colab_type": "text"
      },
      "source": [
        "We can see most of the room  are available at the last 4 month of the year which we already noticed while plotting the histograms above"
      ]
    },
    {
      "cell_type": "code",
      "metadata": {
        "id": "3KaUF9r3Jisb",
        "colab_type": "code",
        "colab": {
          "base_uri": "https://localhost:8080/",
          "height": 323
        },
        "outputId": "e895e6c0-a7ec-4b9a-bb7e-0f6e4f137e4e"
      },
      "source": [
        "# bar graph of availability by month\n",
        "fig, ax = plt.subplots(1)\n",
        "ax.set_yticklabels([])  # Leaving the y tick lable blank\n",
        "ax.tick_params(axis = 'y', which = 'both', length = 0)\n",
        "ax.spines['right'].set_visible(False)\n",
        "ax.spines['left'].set_visible(False)\n",
        "ax.spines['top'].set_visible(False)\n",
        "\n",
        "(availability_room_by_month).plot(kind = 'bar', color = '#e4420a')\n",
        "\n",
        "plt.title(\"availability by month\")"
      ],
      "execution_count": 102,
      "outputs": [
        {
          "output_type": "execute_result",
          "data": {
            "text/plain": [
              "Text(0.5, 1.0, 'availability by month')"
            ]
          },
          "metadata": {
            "tags": []
          },
          "execution_count": 102
        },
        {
          "output_type": "display_data",
          "data": {
            "image/png": "[encoded data removed]",
            "text/plain": [
              "<Figure size 432x288 with 1 Axes>"
            ]
          },
          "metadata": {
            "tags": [],
            "needs_background": "light"
          }
        }
      ]
    },
    {
      "cell_type": "code",
      "metadata": {
        "id": "BW34jW4jKuL_",
        "colab_type": "code",
        "colab": {}
      },
      "source": [
        "# Converting price string using the fuction defined above\n",
        "\n",
        "calendar_df.price = calendar_df.price.str.replace('$', '').str.replace(',', '').astype(float)\n"
      ],
      "execution_count": 0,
      "outputs": []
    },
    {
      "cell_type": "code",
      "metadata": {
        "id": "Vm91O386MLud",
        "colab_type": "code",
        "colab": {
          "base_uri": "https://localhost:8080/",
          "height": 252
        },
        "outputId": "07498b2d-7953-4883-f79d-ed987709960e"
      },
      "source": [
        "# Grouping by month the mean price\n",
        "mean_price_per_month = calendar_df.groupby(['Month']).mean()['price'].sort_values(ascending = False)\n",
        "mean_price_per_month"
      ],
      "execution_count": 104,
      "outputs": [
        {
          "output_type": "execute_result",
          "data": {
            "text/plain": [
              "Month\n",
              "Jul    152.094150\n",
              "Aug    150.656594\n",
              "Jun    147.473137\n",
              "Sep    143.255949\n",
              "May    139.538183\n",
              "Dec    137.251835\n",
              "Oct    137.031939\n",
              "Nov    135.688738\n",
              "Apr    135.097005\n",
              "Mar    128.644488\n",
              "Feb    124.293927\n",
              "Jan    122.912176\n",
              "Name: price, dtype: float64"
            ]
          },
          "metadata": {
            "tags": []
          },
          "execution_count": 104
        }
      ]
    },
    {
      "cell_type": "markdown",
      "metadata": {
        "id": "C9Cq4QsXMlWT",
        "colab_type": "text"
      },
      "source": [
        "We can see mean price is highest in July and then followed by Aug, June ..."
      ]
    },
    {
      "cell_type": "code",
      "metadata": {
        "id": "wbd8EiTCIEp_",
        "colab_type": "code",
        "colab": {}
      },
      "source": [
        "def bar_plot(var,title):\n",
        "    \n",
        "    fig,ax = plt.subplots(1)\n",
        "    ax.spines['right'].set_visible(False)\n",
        "    ax.spines['top'].set_visible(False)\n",
        "    var.plot(kind=\"bar\",color='#e4420a');\n",
        "    plt.title(title);"
      ],
      "execution_count": 0,
      "outputs": []
    },
    {
      "cell_type": "code",
      "metadata": {
        "id": "Qj6_Hoq5I47h",
        "colab_type": "code",
        "colab": {
          "base_uri": "https://localhost:8080/",
          "height": 306
        },
        "outputId": "7fc105e9-b9a9-423f-8a7f-c95ac66f142b"
      },
      "source": [
        "# plotting the bar graph for mean price per month\n",
        "bar_plot(mean_price_per_month, \"Mean price per month\")"
      ],
      "execution_count": 106,
      "outputs": [
        {
          "output_type": "display_data",
          "data": {
            "image/png": "[encoded data removed]",
            "text/plain": [
              "<Figure size 432x288 with 1 Axes>"
            ]
          },
          "metadata": {
            "tags": [],
            "needs_background": "light"
          }
        }
      ]
    },
    {
      "cell_type": "code",
      "metadata": {
        "id": "UKjgSiB0ODmy",
        "colab_type": "code",
        "colab": {}
      },
      "source": [
        "reviews_df['datetime'] = pd.to_datetime(reviews_df['date'], format = \"%Y/%m/%d\")"
      ],
      "execution_count": 0,
      "outputs": []
    },
    {
      "cell_type": "code",
      "metadata": {
        "id": "MctX25D0OUYS",
        "colab_type": "code",
        "colab": {}
      },
      "source": [
        "reviews_df['month'] = pd.DatetimeIndex(reviews_df['datetime']).month"
      ],
      "execution_count": 0,
      "outputs": []
    },
    {
      "cell_type": "code",
      "metadata": {
        "id": "pb1KWKUHObt7",
        "colab_type": "code",
        "colab": {}
      },
      "source": [
        "reviews_df['Month'] = reviews_df['datetime'].dt.strftime('%b')"
      ],
      "execution_count": 0,
      "outputs": []
    },
    {
      "cell_type": "code",
      "metadata": {
        "id": "NDmWoKmlOhJO",
        "colab_type": "code",
        "colab": {
          "base_uri": "https://localhost:8080/",
          "height": 252
        },
        "outputId": "4948d5bc-85ca-4fb0-b9f0-b0deb0d49fd2"
      },
      "source": [
        "\n",
        "comments_per_month = reviews_df.groupby(['Month']).count()['comments'].sort_values(ascending=False)\n",
        "comments_per_month"
      ],
      "execution_count": 110,
      "outputs": [
        {
          "output_type": "execute_result",
          "data": {
            "text/plain": [
              "Month\n",
              "Aug    13017\n",
              "Sep    11675\n",
              "Jul    10501\n",
              "Oct     8954\n",
              "Jun     8542\n",
              "Nov     6665\n",
              "May     5853\n",
              "Dec     5730\n",
              "Apr     4231\n",
              "Mar     4157\n",
              "Jan     2864\n",
              "Feb     2642\n",
              "Name: comments, dtype: int64"
            ]
          },
          "metadata": {
            "tags": []
          },
          "execution_count": 110
        }
      ]
    },
    {
      "cell_type": "markdown",
      "metadata": {
        "id": "ZIQEVXTdOp4o",
        "colab_type": "text"
      },
      "source": [
        "We can notice that there is lots of review in the month of August"
      ]
    },
    {
      "cell_type": "code",
      "metadata": {
        "id": "eCEis408Onzp",
        "colab_type": "code",
        "colab": {
          "base_uri": "https://localhost:8080/",
          "height": 306
        },
        "outputId": "599374c0-281b-434e-8544-d049751e057d"
      },
      "source": [
        "# plotting bargraph of comments per month\n",
        "bar_plot(comments_per_month, \"reviewers comment per Month\")"
      ],
      "execution_count": 111,
      "outputs": [
        {
          "output_type": "display_data",
          "data": {
            "image/png": "[encoded data removed]",
            "text/plain": [
              "<Figure size 432x288 with 1 Axes>"
            ]
          },
          "metadata": {
            "tags": [],
            "needs_background": "light"
          }
        }
      ]
    },
    {
      "cell_type": "markdown",
      "metadata": {
        "id": "hQ7mT6L6lPgo",
        "colab_type": "text"
      },
      "source": [
        "One can see most of the reviews are in the month of July, August and Septempber which means people are most likely to visit Seattle during this months"
      ]
    },
    {
      "cell_type": "markdown",
      "metadata": {
        "id": "uTndEBlLlD0q",
        "colab_type": "text"
      },
      "source": [
        "\n",
        "# Question 3: Neighbourhood Price Analysis"
      ]
    },
    {
      "cell_type": "code",
      "metadata": {
        "id": "8nSrfwlCPDKU",
        "colab_type": "code",
        "colab": {}
      },
      "source": [
        "# grouped by neighbourhood on yhe basis of their mean price\n",
        "neighbour_price = listings_df.groupby('neighbourhood_group_cleansed').mean()['price'].sort_values(ascending = False)"
      ],
      "execution_count": 0,
      "outputs": []
    },
    {
      "cell_type": "code",
      "metadata": {
        "id": "uNe3GU3tmKK9",
        "colab_type": "code",
        "colab": {
          "base_uri": "https://localhost:8080/",
          "height": 151
        },
        "outputId": "5717d35f-b6d6-4bc5-ccb9-f3a68944724b"
      },
      "source": [
        "neighbour_price"
      ],
      "execution_count": 120,
      "outputs": [
        {
          "output_type": "execute_result",
          "data": {
            "text/plain": [
              "neighbourhood_group_cleansed\n",
              "Cascade                194.470588\n",
              "Queen Anne             166.515000\n",
              "Central Area           142.807018\n",
              "Other neighborhoods    133.461538\n",
              "Ballard                122.947761\n",
              "University District     69.296296\n",
              "Name: price, dtype: float64"
            ]
          },
          "metadata": {
            "tags": []
          },
          "execution_count": 120
        }
      ]
    },
    {
      "cell_type": "code",
      "metadata": {
        "id": "4ceSUx70mPj4",
        "colab_type": "code",
        "colab": {
          "base_uri": "https://localhost:8080/",
          "height": 392
        },
        "outputId": "feafc9af-8685-4149-f85c-66ad45470d79"
      },
      "source": [
        "# bar graph for the neighbourhood_price\n",
        "bar_plot(neighbour_price, \"Neighbourhood price\")"
      ],
      "execution_count": 121,
      "outputs": [
        {
          "output_type": "display_data",
          "data": {
            "image/png": "[encoded data removed]",
            "text/plain": [
              "<Figure size 432x288 with 1 Axes>"
            ]
          },
          "metadata": {
            "tags": [],
            "needs_background": "light"
          }
        }
      ]
    },
    {
      "cell_type": "code",
      "metadata": {
        "id": "OLECJV_UmvQA",
        "colab_type": "code",
        "colab": {
          "base_uri": "https://localhost:8080/",
          "height": 151
        },
        "outputId": "5aff72c2-2adf-48d2-b49f-26aacd9121f9"
      },
      "source": [
        "# grouped by neighbourhood on yhe basis of their review score location\n",
        "neighbour_review_scores_location = listings_df.groupby('neighbourhood_group_cleansed').mean()['review_scores_location'].sort_values(ascending = False)\n",
        "neighbour_review_scores_location"
      ],
      "execution_count": 123,
      "outputs": [
        {
          "output_type": "execute_result",
          "data": {
            "text/plain": [
              "neighbourhood_group_cleansed\n",
              "Other neighborhoods    9.793651\n",
              "Ballard                9.765766\n",
              "Queen Anne             9.697674\n",
              "Cascade                9.600000\n",
              "Central Area           9.505263\n",
              "University District    9.454545\n",
              "Name: review_scores_location, dtype: float64"
            ]
          },
          "metadata": {
            "tags": []
          },
          "execution_count": 123
        }
      ]
    },
    {
      "cell_type": "code",
      "metadata": {
        "id": "y0l1ZPBgnxvv",
        "colab_type": "code",
        "colab": {
          "base_uri": "https://localhost:8080/",
          "height": 392
        },
        "outputId": "c88d47f1-3c9d-40e8-991f-8361ac637944"
      },
      "source": [
        "# Plotting the bar graph\n",
        "bar_plot(neighbour_review_scores_location, \"Neighbourhood by reviewer location\")"
      ],
      "execution_count": 124,
      "outputs": [
        {
          "output_type": "display_data",
          "data": {
            "image/png": "[encoded data removed]",
            "text/plain": [
              "<Figure size 432x288 with 1 Axes>"
            ]
          },
          "metadata": {
            "tags": [],
            "needs_background": "light"
          }
        }
      ]
    },
    {
      "cell_type": "code",
      "metadata": {
        "id": "CRX3IetVoFe1",
        "colab_type": "code",
        "colab": {
          "base_uri": "https://localhost:8080/",
          "height": 151
        },
        "outputId": "934f6c49-08da-4e54-847a-7a11c9ddd424"
      },
      "source": [
        "# grouped by neighbourhood on yhe basis of their review score rating\n",
        "neighbour_review_score_rating = listings_df.groupby('neighbourhood_group_cleansed').mean()['review_scores_rating'].sort_values(ascending = False)\n",
        "neighbour_review_score_rating"
      ],
      "execution_count": 126,
      "outputs": [
        {
          "output_type": "execute_result",
          "data": {
            "text/plain": [
              "neighbourhood_group_cleansed\n",
              "Cascade                96.500000\n",
              "Central Area           95.968421\n",
              "Queen Anne             95.554913\n",
              "Ballard                95.261261\n",
              "Other neighborhoods    94.465608\n",
              "University District    91.772727\n",
              "Name: review_scores_rating, dtype: float64"
            ]
          },
          "metadata": {
            "tags": []
          },
          "execution_count": 126
        }
      ]
    },
    {
      "cell_type": "code",
      "metadata": {
        "id": "3z6BiTifoogk",
        "colab_type": "code",
        "colab": {
          "base_uri": "https://localhost:8080/",
          "height": 392
        },
        "outputId": "01f21a5b-f8a7-4d62-e17f-59831be98d03"
      },
      "source": [
        "# Plotting the bar graph\n",
        "bar_plot(neighbour_review_score_rating, \"Neighbourhood by reviewer rating\")"
      ],
      "execution_count": 128,
      "outputs": [
        {
          "output_type": "display_data",
          "data": {
            "image/png": "[encoded data removed]",
            "text/plain": [
              "<Figure size 432x288 with 1 Axes>"
            ]
          },
          "metadata": {
            "tags": [],
            "needs_background": "light"
          }
        }
      ]
    },
    {
      "cell_type": "markdown",
      "metadata": {
        "id": "iI03HcjypZtT",
        "colab_type": "text"
      },
      "source": [
        "We can say that Cascade is the most expensive place"
      ]
    },
    {
      "cell_type": "code",
      "metadata": {
        "id": "j7RIoecfo6B7",
        "colab_type": "code",
        "colab": {}
      },
      "source": [
        ""
      ],
      "execution_count": 0,
      "outputs": []
    }
  ]
}